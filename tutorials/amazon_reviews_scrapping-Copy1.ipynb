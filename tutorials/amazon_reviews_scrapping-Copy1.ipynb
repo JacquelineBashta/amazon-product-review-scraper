{
 "cells": [
  {
   "cell_type": "markdown",
   "metadata": {
    "toc": true
   },
   "source": [
    "<h1>Table of Contents<span class=\"tocSkip\"></span></h1>\n",
    "<div class=\"toc\"><ul class=\"toc-item\"><li><span><a href=\"#Importing-packages\" data-toc-modified-id=\"Importing-packages-1\"><span class=\"toc-item-num\">1&nbsp;&nbsp;</span>Importing packages</a></span></li><li><span><a href=\"#Amazon-reviews-scrapper\" data-toc-modified-id=\"Amazon-reviews-scrapper-2\"><span class=\"toc-item-num\">2&nbsp;&nbsp;</span>Amazon reviews scrapper</a></span></li></ul></div>"
   ]
  },
  {
   "cell_type": "code",
   "execution_count": 2,
   "metadata": {},
   "outputs": [],
   "source": [
    "# https://landingcube.com/amazon-super-url/#:~:text=A%20Super%20URL%20is%20a,exact%20source%20of%20a%20click.\n",
    "# https://www.sellerlabs.com/blog/super-urls-exposed/\n",
    "# https://401stblow.wordpress.com/2010/06/26/amazon-associates-links-made-simple/#:~:text=So%20now%20we%20have%20Amazon's,to%20credit%20for%20the%20sale."
   ]
  },
  {
   "cell_type": "code",
   "execution_count": 3,
   "metadata": {},
   "outputs": [],
   "source": [
    "# https://www.amazon.in/Hammer-Wireless-Bluetooth-Playtime-Headphone/dp/B07WY5M3KT/ref=lp_14583473031_1_3_sspa?s=electronics&ie=UTF8&qid=1597608129&sr=1-3-spons&psc=1&spLa=ZW5jcnlwdGVkUXVhbGlmaWVyPUEyOURIRjFRSUlTNUgyJmVuY3J5cHRlZElkPUEwNzM0OTMyMzJFSlUyQzlYSlBJSCZlbmNyeXB0ZWRBZElkPUEwNjMwMTYyMzhJNzNMOTA5WldIOSZ3aWRnZXROYW1lPXNwX2F0Zl9icm93c2UmYWN0aW9uPWNsaWNrUmVkaXJlY3QmZG9Ob3RMb2dDbGljaz10cnVl\n",
    "# https://www.amazon.in/Hammer-Wireless-Bluetooth-Playtime-Headphone/product-reviews/B07WY5M3KT/ref=lp_14583473031_1_3_sspa?s=electronics&ie=UTF8&qid=1597608129&sr=1-3-spons&psc=1&spLa=ZW5jcnlwdGVkUXVhbGlmaWVyPUEyOURIRjFRSUlTNUgyJmVuY3J5cHRlZElkPUEwNzM0OTMyMzJFSlUyQzlYSlBJSCZlbmNyeXB0ZWRBZElkPUEwNjMwMTYyMzhJNzNMOTA5WldIOSZ3aWRnZXROYW1lPXNwX2F0Zl9icm93c2UmYWN0aW9uPWNsaWNrUmVkaXJlY3QmZG9Ob3RMb2dDbGljaz10cnVl\n",
    "        \n",
    "#  https://www.amazon.in/Hammer-Wireless-Bluetooth-Playtime-Headphone/product-reviews/B07WY5M3KT/ref=lp_14583473031_1_3_sspa?s=electronics&ie=UTF8&qid=1597608129&sr=1-3-spons&psc=1&spLa=ZW5jcnlwdGVkUXVhbGlmaWVyPUEyOURIRjFRSUlTNUgyJmVuY3J5cHRlZElkPUEwNzM0OTMyMzJFSlUyQzlYSlBJSCZlbmNyeXB0ZWRBZElkPUEwNjMwMTYyMzhJNzNMOTA5WldIOSZ3aWRnZXROYW1lPXNwX2F0Zl9icm93c2UmYWN0aW9uPWNsaWNrUmVkaXJlY3QmZG9Ob3RMb2dDbGljaz10cnVl?ie=UTF8&reviewerType=all_reviews&pageNumber=15        \n",
    "    "
   ]
  },
  {
   "cell_type": "code",
   "execution_count": 4,
   "metadata": {},
   "outputs": [],
   "source": [
    "#### http://www.amazon.com/dp/{$ASIN}"
   ]
  },
  {
   "cell_type": "markdown",
   "metadata": {},
   "source": [
    "#### Importing packages"
   ]
  },
  {
   "cell_type": "code",
   "execution_count": 127,
   "metadata": {},
   "outputs": [],
   "source": [
    "import pandas as pd\n",
    "import re\n",
    "import requests\n",
    "from bs4 import BeautifulSoup\n",
    "\n",
    "# to ignore SSL certificate errors\n",
    "from requests.packages.urllib3.exceptions import InsecureRequestWarning\n",
    "requests.packages.urllib3.disable_warnings(InsecureRequestWarning)"
   ]
  },
  {
   "cell_type": "markdown",
   "metadata": {},
   "source": [
    "#### Amazon reviews scrapper"
   ]
  },
  {
   "cell_type": "code",
   "execution_count": 280,
   "metadata": {},
   "outputs": [],
   "source": [
    "number = 'B086RTJ1B6'\n",
    "# url = \"https://www.amazon.in/dp/{}\".format(number)\n",
    "url = \"https://www.amazon.in/dp/product-reviews/{}\".format(number)\n",
    "url = url+\"?pageNumber=4\""
   ]
  },
  {
   "cell_type": "code",
   "execution_count": 281,
   "metadata": {},
   "outputs": [],
   "source": [
    "agg_titles = []\n",
    "agg_names = []\n",
    "agg_ratings = []\n",
    "agg_verified = []\n",
    "agg_dates = []\n",
    "agg_contents = []"
   ]
  },
  {
   "cell_type": "code",
   "execution_count": 282,
   "metadata": {},
   "outputs": [],
   "source": [
    "def helper(content, tag, parameter_key, parameter_value):\n",
    "    attribute_lst = []\n",
    "    attributes = content.find_all(tag, {parameter_key: parameter_value})\n",
    "    for attribute in attributes:\n",
    "        attribute_lst.append(attribute.contents[0])\n",
    "    return attribute_lst"
   ]
  },
  {
   "cell_type": "code",
   "execution_count": 283,
   "metadata": {},
   "outputs": [],
   "source": [
    "def scrapper(url):\n",
    "    \n",
    "    # amazon blocks requests that does not come from browser, therefore need to mention user-agent\n",
    "    headers = {'User-Agent': 'Mozilla/5.0 (Windows NT 6.1) AppleWebKit/537.36 (KHTML, like Gecko) Chrome/41.0.2228.0 Safari/537.36',}\n",
    "    response = requests.get(url, verify=False, headers=headers)\n",
    "    \n",
    "    if (response.status_code != 200):\n",
    "        print (\"Not able to scrape ({})\".format(response))\n",
    "    \n",
    "\n",
    "    # parsing content\n",
    "    soup = BeautifulSoup(response.text, 'html.parser')\n",
    "    ## reviews section\n",
    "    reviews = soup.findAll(\"div\", {\"class\":\"a-section review aok-relative\"})\n",
    "    ## parsing reviews section\n",
    "    reviews = BeautifulSoup('<br/>'.join([str(tag) for tag in reviews]), 'html.parser')\n",
    "    \n",
    "    \n",
    "    ## 1. title\n",
    "    titles = reviews.find_all(\"a\", class_=\"review-title\")\n",
    "    title_lst = []\n",
    "    for title in titles:\n",
    "        title_lst.append(title.find_all(\"span\")[0].contents[0])\n",
    "        \n",
    "    ## 2. name\n",
    "    name_lst = helper(reviews, \"span\", \"class\", \"a-profile-name\")\n",
    "    \n",
    "    ## 3. rating\n",
    "    rating_lst = helper(reviews, \"span\", \"class\", \"a-icon-alt\")\n",
    "    \n",
    "    ## 4. verified\n",
    "    verified_lst = helper(reviews, \"span\", \"data-hook\", \"avp-badge\")\n",
    "    \n",
    "    ## 5. date\n",
    "    date_lst = helper(reviews, \"span\", \"data-hook\", \"review-date\")   \n",
    "    \n",
    "    ## 6. content\n",
    "    contents = reviews.find_all(\"span\", {\"data-hook\":\"review-body\"})\n",
    "    content_lst = []\n",
    "    for content in contents:\n",
    "        text_ = content.find_all(\"span\")[0].get_text(\"\\n\").strip()\n",
    "        text_ = \". \".join(text_.splitlines())\n",
    "        text_ = re.sub(' +', ' ', text_)\n",
    "        content_lst.append(text_)\n",
    "    \n",
    "    # adding to the main list\n",
    "    agg_titles.extend(title_lst)\n",
    "    agg_names.extend(name_lst)\n",
    "    agg_ratings.extend(rating_lst)\n",
    "    agg_verified.extend(verified_lst)\n",
    "    agg_dates.extend(date_lst)\n",
    "    agg_contents.extend(content_lst)\n",
    "    \n",
    "    # checking whether scrapping is completed\n",
    "    if (len(title_lst) == 0):\n",
    "        return \"completed\"\n",
    "    else:\n",
    "        return \"running\""
   ]
  },
  {
   "cell_type": "code",
   "execution_count": 288,
   "metadata": {},
   "outputs": [
    {
     "name": "stdout",
     "output_type": "stream",
     "text": [
      "Amazon site (example: amazon.in): amazon.in\n",
      "Scrapping page: 15\r"
     ]
    }
   ],
   "source": [
    "amazon_site = input(\"Amazon site (example: amazon.in): \")\n",
    "amazon_site = \"amazon.in\"\n",
    "# product_id = input(\"Product Id: \")\n",
    "product_id = \"B086RTJ1B6\"\n",
    "\n",
    "url = \"https://www.\" + amazon_site + \"/dp/product-reviews/\" + product_id + \"?pageNumber={}\"\n",
    "\n",
    "page = 1\n",
    "while(True):\n",
    "    \n",
    "    print (\"Scrapping page: {}\".format(page), end=\"\\r\")\n",
    "    status = scrapper(url.format(page))\n",
    "    \n",
    "    if (status == \"completed\"):\n",
    "        break\n",
    "    else:\n",
    "        page += 1"
   ]
  },
  {
   "cell_type": "code",
   "execution_count": 285,
   "metadata": {},
   "outputs": [],
   "source": [
    "reviews_df = pd.DataFrame({\"date\": agg_dates,\n",
    "                           \"name\": agg_names,\n",
    "                           \"title\": agg_titles,\n",
    "                           \"content\": agg_contents,\n",
    "                           \"rating\": agg_ratings})"
   ]
  },
  {
   "cell_type": "code",
   "execution_count": 286,
   "metadata": {},
   "outputs": [
    {
     "data": {
      "text/plain": [
       "(0, 5)"
      ]
     },
     "execution_count": 286,
     "metadata": {},
     "output_type": "execute_result"
    }
   ],
   "source": [
    "reviews_df.shape"
   ]
  },
  {
   "cell_type": "code",
   "execution_count": 287,
   "metadata": {},
   "outputs": [
    {
     "data": {
      "text/html": [
       "<div>\n",
       "<style scoped>\n",
       "    .dataframe tbody tr th:only-of-type {\n",
       "        vertical-align: middle;\n",
       "    }\n",
       "\n",
       "    .dataframe tbody tr th {\n",
       "        vertical-align: top;\n",
       "    }\n",
       "\n",
       "    .dataframe thead th {\n",
       "        text-align: right;\n",
       "    }\n",
       "</style>\n",
       "<table border=\"1\" class=\"dataframe\">\n",
       "  <thead>\n",
       "    <tr style=\"text-align: right;\">\n",
       "      <th></th>\n",
       "      <th>date</th>\n",
       "      <th>name</th>\n",
       "      <th>title</th>\n",
       "      <th>content</th>\n",
       "      <th>rating</th>\n",
       "    </tr>\n",
       "  </thead>\n",
       "  <tbody>\n",
       "  </tbody>\n",
       "</table>\n",
       "</div>"
      ],
      "text/plain": [
       "Empty DataFrame\n",
       "Columns: [date, name, title, content, rating]\n",
       "Index: []"
      ]
     },
     "execution_count": 287,
     "metadata": {},
     "output_type": "execute_result"
    }
   ],
   "source": [
    "reviews_df"
   ]
  },
  {
   "cell_type": "code",
   "execution_count": null,
   "metadata": {},
   "outputs": [],
   "source": []
  },
  {
   "cell_type": "code",
   "execution_count": null,
   "metadata": {},
   "outputs": [],
   "source": []
  },
  {
   "cell_type": "code",
   "execution_count": null,
   "metadata": {},
   "outputs": [],
   "source": [
    "#no"
   ]
  }
 ],
 "metadata": {
  "kernelspec": {
   "display_name": "Python 3",
   "language": "python",
   "name": "python3"
  },
  "language_info": {
   "codemirror_mode": {
    "name": "ipython",
    "version": 3
   },
   "file_extension": ".py",
   "mimetype": "text/x-python",
   "name": "python",
   "nbconvert_exporter": "python",
   "pygments_lexer": "ipython3",
   "version": "3.6.9"
  },
  "toc": {
   "base_numbering": 1,
   "nav_menu": {},
   "number_sections": true,
   "sideBar": true,
   "skip_h1_title": true,
   "title_cell": "Table of Contents",
   "title_sidebar": "Contents",
   "toc_cell": true,
   "toc_position": {
    "height": "calc(100% - 180px)",
    "left": "10px",
    "top": "150px",
    "width": "165px"
   },
   "toc_section_display": true,
   "toc_window_display": true
  },
  "varInspector": {
   "cols": {
    "lenName": 16,
    "lenType": 16,
    "lenVar": 40
   },
   "kernels_config": {
    "python": {
     "delete_cmd_postfix": "",
     "delete_cmd_prefix": "del ",
     "library": "var_list.py",
     "varRefreshCmd": "print(var_dic_list())"
    },
    "r": {
     "delete_cmd_postfix": ") ",
     "delete_cmd_prefix": "rm(",
     "library": "var_list.r",
     "varRefreshCmd": "cat(var_dic_list()) "
    }
   },
   "types_to_exclude": [
    "module",
    "function",
    "builtin_function_or_method",
    "instance",
    "_Feature"
   ],
   "window_display": false
  }
 },
 "nbformat": 4,
 "nbformat_minor": 4
}
