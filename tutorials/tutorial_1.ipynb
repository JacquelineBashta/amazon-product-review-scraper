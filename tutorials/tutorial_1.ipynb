{
 "cells": [
  {
   "cell_type": "markdown",
   "metadata": {
    "toc": true
   },
   "source": [
    "<h1>Table of Contents<span class=\"tocSkip\"></span></h1>\n",
    "<div class=\"toc\"><ul class=\"toc-item\"></ul></div>"
   ]
  },
  {
   "cell_type": "code",
   "execution_count": 1,
   "metadata": {},
   "outputs": [],
   "source": [
    "from amazon_product_review_scraper import amazon_product_review_scraper"
   ]
  },
  {
   "cell_type": "code",
   "execution_count": 2,
   "metadata": {},
   "outputs": [
    {
     "name": "stdout",
     "output_type": "stream",
     "text": [
      "Total reviews: 430\n"
     ]
    }
   ],
   "source": [
    "product_1 = amazon_product_review_scraper(amazon_site=\"amazon.in\", product_id=\"B07XZBW7TX\", sleep_time=2)"
   ]
  },
  {
   "cell_type": "code",
   "execution_count": 3,
   "metadata": {},
   "outputs": [
    {
     "name": "stdout",
     "output_type": "stream",
     "text": [
      "Started!\n",
      "Total pages: 43\n"
     ]
    },
    {
     "data": {
      "application/vnd.jupyter.widget-view+json": {
       "model_id": "6a97945fb24046af8fc2b1d47c212de0",
       "version_major": 2,
       "version_minor": 0
      },
      "text/plain": [
       "HBox(children=(FloatProgress(value=0.0, max=42.0), HTML(value='')))"
      ]
     },
     "metadata": {},
     "output_type": "display_data"
    },
    {
     "name": "stdout",
     "output_type": "stream",
     "text": [
      "\n",
      "Completed!\n"
     ]
    }
   ],
   "source": [
    "csv_df = product_1.scraper()"
   ]
  },
  {
   "cell_type": "code",
   "execution_count": 4,
   "metadata": {},
   "outputs": [
    {
     "data": {
      "text/html": [
       "<div>\n",
       "<style scoped>\n",
       "    .dataframe tbody tr th:only-of-type {\n",
       "        vertical-align: middle;\n",
       "    }\n",
       "\n",
       "    .dataframe tbody tr th {\n",
       "        vertical-align: top;\n",
       "    }\n",
       "\n",
       "    .dataframe thead th {\n",
       "        text-align: right;\n",
       "    }\n",
       "</style>\n",
       "<table border=\"1\" class=\"dataframe\">\n",
       "  <thead>\n",
       "    <tr style=\"text-align: right;\">\n",
       "      <th></th>\n",
       "      <th>date_info</th>\n",
       "      <th>name</th>\n",
       "      <th>title</th>\n",
       "      <th>content</th>\n",
       "      <th>rating</th>\n",
       "    </tr>\n",
       "  </thead>\n",
       "  <tbody>\n",
       "    <tr>\n",
       "      <th>0</th>\n",
       "      <td>Reviewed in India on 30 May 2018</td>\n",
       "      <td>Anand</td>\n",
       "      <td>Good design but not very durable.</td>\n",
       "      <td>The bag looks good, feels good but doesn't las...</td>\n",
       "      <td>2.0 out of 5 stars</td>\n",
       "    </tr>\n",
       "    <tr>\n",
       "      <th>1</th>\n",
       "      <td>Reviewed in India on 19 March 2017</td>\n",
       "      <td>Amazon Customer</td>\n",
       "      <td>Size Issue.</td>\n",
       "      <td>If u eon't hwve mac book then its nit for 13.3...</td>\n",
       "      <td>3.0 out of 5 stars</td>\n",
       "    </tr>\n",
       "    <tr>\n",
       "      <th>2</th>\n",
       "      <td>Reviewed in India on 29 January 2018</td>\n",
       "      <td>vineet s.</td>\n",
       "      <td>Worth the money. Fits the MacBook air 13 inch ...</td>\n",
       "      <td>I am pleased to say that I bought this item fo...</td>\n",
       "      <td>5.0 out of 5 stars</td>\n",
       "    </tr>\n",
       "    <tr>\n",
       "      <th>3</th>\n",
       "      <td>Reviewed in India on 1 September 2017</td>\n",
       "      <td>Rajiv</td>\n",
       "      <td>Good protection and additional convenience. Ha...</td>\n",
       "      <td>Exactly as shown in the image. (This feels lik...</td>\n",
       "      <td>5.0 out of 5 stars</td>\n",
       "    </tr>\n",
       "    <tr>\n",
       "      <th>4</th>\n",
       "      <td>Reviewed in India on 17 April 2018</td>\n",
       "      <td>Vishal Kulshrestha</td>\n",
       "      <td>Good product but incorrect size for MacBook pr...</td>\n",
       "      <td>It is not recommended for 13 inch MacBook, it'...</td>\n",
       "      <td>3.0 out of 5 stars</td>\n",
       "    </tr>\n",
       "    <tr>\n",
       "      <th>...</th>\n",
       "      <td>...</td>\n",
       "      <td>...</td>\n",
       "      <td>...</td>\n",
       "      <td>...</td>\n",
       "      <td>...</td>\n",
       "    </tr>\n",
       "    <tr>\n",
       "      <th>415</th>\n",
       "      <td>Reviewed in India on 29 March 2019</td>\n",
       "      <td>Dr. Sourav Roy Choudhury</td>\n",
       "      <td>Good one, but way too costlier than it should be.</td>\n",
       "      <td>Good one, but at R.759, way too costlier than ...</td>\n",
       "      <td>4.0 out of 5 stars</td>\n",
       "    </tr>\n",
       "    <tr>\n",
       "      <th>416</th>\n",
       "      <td>Reviewed in India on 22 February 2019</td>\n",
       "      <td>ASBYT</td>\n",
       "      <td>Worth the money. Very durable and good looking...</td>\n",
       "      <td>Product is very good. Really deserves 5 stars....</td>\n",
       "      <td>5.0 out of 5 stars</td>\n",
       "    </tr>\n",
       "    <tr>\n",
       "      <th>417</th>\n",
       "      <td>Reviewed in India on 22 September 2019</td>\n",
       "      <td>Sayantan Bhattacharya</td>\n",
       "      <td>Good for Protection of a MacBook Air</td>\n",
       "      <td>Got it just today for my macbook air!fits perf...</td>\n",
       "      <td>4.0 out of 5 stars</td>\n",
       "    </tr>\n",
       "    <tr>\n",
       "      <th>418</th>\n",
       "      <td>Reviewed in India on 26 March 2018</td>\n",
       "      <td>Sparsh09</td>\n",
       "      <td>Perfect Protection</td>\n",
       "      <td>Delivery: On time.. Packaging: Soft-cover pack...</td>\n",
       "      <td>4.0 out of 5 stars</td>\n",
       "    </tr>\n",
       "    <tr>\n",
       "      <th>419</th>\n",
       "      <td>Reviewed in India on 19 October 2019</td>\n",
       "      <td>Meghana</td>\n",
       "      <td>Perfect for your laptop!</td>\n",
       "      <td>I am glad that I measured my laptop before pur...</td>\n",
       "      <td>5.0 out of 5 stars</td>\n",
       "    </tr>\n",
       "  </tbody>\n",
       "</table>\n",
       "<p>420 rows × 5 columns</p>\n",
       "</div>"
      ],
      "text/plain": [
       "                                  date_info                      name  \\\n",
       "0          Reviewed in India on 30 May 2018                     Anand   \n",
       "1        Reviewed in India on 19 March 2017           Amazon Customer   \n",
       "2      Reviewed in India on 29 January 2018                 vineet s.   \n",
       "3     Reviewed in India on 1 September 2017                     Rajiv   \n",
       "4        Reviewed in India on 17 April 2018        Vishal Kulshrestha   \n",
       "..                                      ...                       ...   \n",
       "415      Reviewed in India on 29 March 2019  Dr. Sourav Roy Choudhury   \n",
       "416   Reviewed in India on 22 February 2019                     ASBYT   \n",
       "417  Reviewed in India on 22 September 2019     Sayantan Bhattacharya   \n",
       "418      Reviewed in India on 26 March 2018                  Sparsh09   \n",
       "419    Reviewed in India on 19 October 2019                   Meghana   \n",
       "\n",
       "                                                 title  \\\n",
       "0                    Good design but not very durable.   \n",
       "1                                          Size Issue.   \n",
       "2    Worth the money. Fits the MacBook air 13 inch ...   \n",
       "3    Good protection and additional convenience. Ha...   \n",
       "4    Good product but incorrect size for MacBook pr...   \n",
       "..                                                 ...   \n",
       "415  Good one, but way too costlier than it should be.   \n",
       "416  Worth the money. Very durable and good looking...   \n",
       "417               Good for Protection of a MacBook Air   \n",
       "418                                 Perfect Protection   \n",
       "419                           Perfect for your laptop!   \n",
       "\n",
       "                                               content              rating  \n",
       "0    The bag looks good, feels good but doesn't las...  2.0 out of 5 stars  \n",
       "1    If u eon't hwve mac book then its nit for 13.3...  3.0 out of 5 stars  \n",
       "2    I am pleased to say that I bought this item fo...  5.0 out of 5 stars  \n",
       "3    Exactly as shown in the image. (This feels lik...  5.0 out of 5 stars  \n",
       "4    It is not recommended for 13 inch MacBook, it'...  3.0 out of 5 stars  \n",
       "..                                                 ...                 ...  \n",
       "415  Good one, but at R.759, way too costlier than ...  4.0 out of 5 stars  \n",
       "416  Product is very good. Really deserves 5 stars....  5.0 out of 5 stars  \n",
       "417  Got it just today for my macbook air!fits perf...  4.0 out of 5 stars  \n",
       "418  Delivery: On time.. Packaging: Soft-cover pack...  4.0 out of 5 stars  \n",
       "419  I am glad that I measured my laptop before pur...  5.0 out of 5 stars  \n",
       "\n",
       "[420 rows x 5 columns]"
      ]
     },
     "execution_count": 4,
     "metadata": {},
     "output_type": "execute_result"
    }
   ],
   "source": [
    "csv_df"
   ]
  },
  {
   "cell_type": "code",
   "execution_count": null,
   "metadata": {},
   "outputs": [],
   "source": []
  },
  {
   "cell_type": "code",
   "execution_count": null,
   "metadata": {},
   "outputs": [],
   "source": []
  },
  {
   "cell_type": "code",
   "execution_count": null,
   "metadata": {},
   "outputs": [],
   "source": []
  },
  {
   "cell_type": "code",
   "execution_count": null,
   "metadata": {},
   "outputs": [],
   "source": []
  },
  {
   "cell_type": "code",
   "execution_count": null,
   "metadata": {},
   "outputs": [],
   "source": []
  },
  {
   "cell_type": "markdown",
   "metadata": {},
   "source": [
    "# "
   ]
  },
  {
   "cell_type": "code",
   "execution_count": null,
   "metadata": {},
   "outputs": [],
   "source": [
    "#no"
   ]
  }
 ],
 "metadata": {
  "kernelspec": {
   "display_name": "Python 3",
   "language": "python",
   "name": "python3"
  },
  "language_info": {
   "codemirror_mode": {
    "name": "ipython",
    "version": 3
   },
   "file_extension": ".py",
   "mimetype": "text/x-python",
   "name": "python",
   "nbconvert_exporter": "python",
   "pygments_lexer": "ipython3",
   "version": "3.6.9"
  },
  "toc": {
   "base_numbering": 1,
   "nav_menu": {},
   "number_sections": true,
   "sideBar": true,
   "skip_h1_title": true,
   "title_cell": "Table of Contents",
   "title_sidebar": "Contents",
   "toc_cell": true,
   "toc_position": {
    "height": "calc(100% - 180px)",
    "left": "10px",
    "top": "150px",
    "width": "165px"
   },
   "toc_section_display": true,
   "toc_window_display": true
  },
  "varInspector": {
   "cols": {
    "lenName": 16,
    "lenType": 16,
    "lenVar": 40
   },
   "kernels_config": {
    "python": {
     "delete_cmd_postfix": "",
     "delete_cmd_prefix": "del ",
     "library": "var_list.py",
     "varRefreshCmd": "print(var_dic_list())"
    },
    "r": {
     "delete_cmd_postfix": ") ",
     "delete_cmd_prefix": "rm(",
     "library": "var_list.r",
     "varRefreshCmd": "cat(var_dic_list()) "
    }
   },
   "types_to_exclude": [
    "module",
    "function",
    "builtin_function_or_method",
    "instance",
    "_Feature"
   ],
   "window_display": false
  }
 },
 "nbformat": 4,
 "nbformat_minor": 4
}
