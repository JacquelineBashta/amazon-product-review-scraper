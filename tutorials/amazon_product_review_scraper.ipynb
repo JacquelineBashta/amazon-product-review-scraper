{
 "cells": [
  {
   "cell_type": "markdown",
   "metadata": {
    "toc": true
   },
   "source": [
    "<h1>Table of Contents<span class=\"tocSkip\"></span></h1>\n",
    "<div class=\"toc\"><ul class=\"toc-item\"><li><span><a href=\"#Importing-packages\" data-toc-modified-id=\"Importing-packages-1\"><span class=\"toc-item-num\">1&nbsp;&nbsp;</span>Importing packages</a></span></li></ul></div>"
   ]
  },
  {
   "cell_type": "code",
   "execution_count": null,
   "metadata": {},
   "outputs": [],
   "source": [
    "## captcha\n",
    "## status code is 200 even if it displays the captcha image, therefore searching specific words to make sure capcha is \n"
   ]
  },
  {
   "cell_type": "code",
   "execution_count": 1,
   "metadata": {},
   "outputs": [
    {
     "name": "stdout",
     "output_type": "stream",
     "text": [
      "Processing /Users/harsh/Desktop/DATA_SCIENCE/amazon-product-review-scraper/dist/amazon_product_review_scraper-1.0-py3-none-any.whl\n",
      "Requirement already satisfied, skipping upgrade: bs4 in /Users/harsh/anaconda3/lib/python3.6/site-packages (from amazon-product-review-scraper==1.0) (0.0.1)\n",
      "Requirement already satisfied, skipping upgrade: beautifulsoup4 in /Users/harsh/anaconda3/lib/python3.6/site-packages (from bs4->amazon-product-review-scraper==1.0) (4.9.1)\n",
      "Requirement already satisfied, skipping upgrade: soupsieve>1.2 in /Users/harsh/anaconda3/lib/python3.6/site-packages (from beautifulsoup4->bs4->amazon-product-review-scraper==1.0) (2.0.1)\n",
      "Installing collected packages: amazon-product-review-scraper\n",
      "  Attempting uninstall: amazon-product-review-scraper\n",
      "    Found existing installation: amazon-product-review-scraper 1.0\n",
      "    Uninstalling amazon-product-review-scraper-1.0:\n",
      "      Successfully uninstalled amazon-product-review-scraper-1.0\n",
      "Successfully installed amazon-product-review-scraper-1.0\n",
      "\u001b[33mWARNING: You are using pip version 19.3.1; however, version 20.2.2 is available.\n",
      "You should consider upgrading via the '/Users/harsh/anaconda3/bin/python -m pip install --upgrade pip' command.\u001b[0m\n"
     ]
    }
   ],
   "source": [
    "!pip install --upgrade \"../dist/amazon_product_review_scraper-1.0-py3-none-any.whl\""
   ]
  },
  {
   "cell_type": "markdown",
   "metadata": {},
   "source": [
    "#### Importing packages"
   ]
  },
  {
   "cell_type": "code",
   "execution_count": 2,
   "metadata": {},
   "outputs": [],
   "source": [
    "from amazon_product_review_scraper import amazon_review_scraper"
   ]
  },
  {
   "cell_type": "code",
   "execution_count": 14,
   "metadata": {},
   "outputs": [
    {
     "name": "stdout",
     "output_type": "stream",
     "text": [
      "Started!\n",
      "https://www.amazon.in/dp/product-reviews/B07FQKSWZJ?pageNumber=1\n",
      "\n",
      "Completed!\n"
     ]
    }
   ],
   "source": [
    "review_df = amazon_review_scraper(amazon_site=\"amazon.in\", product_id=\"B07FQKSWZJ\")\n",
    "\n",
    "## pre-processing\n",
    "# review_df[\"date\"] = review_df[\"date\"].apply(lambda x: \" \".join(x.split(\" \")[-2:]))"
   ]
  },
  {
   "cell_type": "code",
   "execution_count": 7,
   "metadata": {},
   "outputs": [
    {
     "data": {
      "text/html": [
       "<div>\n",
       "<style scoped>\n",
       "    .dataframe tbody tr th:only-of-type {\n",
       "        vertical-align: middle;\n",
       "    }\n",
       "\n",
       "    .dataframe tbody tr th {\n",
       "        vertical-align: top;\n",
       "    }\n",
       "\n",
       "    .dataframe thead th {\n",
       "        text-align: right;\n",
       "    }\n",
       "</style>\n",
       "<table border=\"1\" class=\"dataframe\">\n",
       "  <thead>\n",
       "    <tr style=\"text-align: right;\">\n",
       "      <th></th>\n",
       "      <th>date_info</th>\n",
       "      <th>name</th>\n",
       "      <th>title</th>\n",
       "      <th>content</th>\n",
       "      <th>rating</th>\n",
       "    </tr>\n",
       "  </thead>\n",
       "  <tbody>\n",
       "  </tbody>\n",
       "</table>\n",
       "</div>"
      ],
      "text/plain": [
       "Empty DataFrame\n",
       "Columns: [date_info, name, title, content, rating]\n",
       "Index: []"
      ]
     },
     "execution_count": 7,
     "metadata": {},
     "output_type": "execute_result"
    }
   ],
   "source": [
    "review_df.head(2)"
   ]
  },
  {
   "cell_type": "code",
   "execution_count": 50,
   "metadata": {},
   "outputs": [],
   "source": [
    "url = \"https://www.amazon.in/dp/product-reviews/B071KFNTYF?pageNumber=1\"\n",
    "headers = {\"user-agent\": \"Mozilla/5.0 (Windows NT 10.0; Win64; x64) AppleWebKit/537.36 (KHTML, like Gecko) Chrome/74.0.3729.169 Safari/537.36\",\n",
    "#           'referer':'https://www.google.com/'\n",
    "          'referer':'d'\n",
    "\n",
    "          }\n",
    "response = requests.get(url, verify=False, headers=headers)\n",
    "\n",
    "soup = BeautifulSoup(response.text, 'html.parser')\n",
    "soup"
   ]
  },
  {
   "cell_type": "code",
   "execution_count": null,
   "metadata": {},
   "outputs": [],
   "source": []
  },
  {
   "cell_type": "code",
   "execution_count": null,
   "metadata": {},
   "outputs": [],
   "source": []
  },
  {
   "cell_type": "code",
   "execution_count": 88,
   "metadata": {},
   "outputs": [],
   "source": [
    "# Importing packages\n",
    "import pandas as pd\n",
    "import re\n",
    "import requests\n",
    "from bs4 import BeautifulSoup\n",
    "import time\n",
    "\n",
    "# to ignore SSL certificate errors\n",
    "from requests.packages.urllib3.exceptions import InsecureRequestWarning\n",
    "requests.packages.urllib3.disable_warnings(InsecureRequestWarning)\n",
    "\n",
    "# random user-agent\n",
    "from fake_useragent import UserAgent\n",
    "ua = UserAgent(cache=False, use_cache_server=False)\n",
    "\n",
    "# random proxy generator\n",
    "def proxy_generator():\n",
    "    response = requests.get(\"https://sslproxies.org/\")\n",
    "    soup = BeautifulSoup(response.content, 'html5lib')\n",
    "    proxy = {'https': choice(list(map(lambda x:x[0]+':'+x[1], list(zip(map(lambda x:x.text, soup.findAll('td')[::8]), map(lambda x:x.text, soup.findAll('td')[1::8]))))))}\n",
    "    return proxy\n",
    "\n",
    "# Scrapper\n",
    "def helper(content, tag, parameter_key, parameter_value):\n",
    "    attribute_lst = []\n",
    "    attributes = content.find_all(tag, {parameter_key: parameter_value})\n",
    "    for attribute in attributes:\n",
    "        attribute_lst.append(attribute.contents[0])\n",
    "    return attribute_lst\n",
    "\n",
    "def scraper(url):\n",
    "    print(url)\n",
    "    \n",
    "    # amazon blocks requests that does not come from browser, therefore need to mention user-agent\n",
    "    headers = {'User-Agent': ua.random}\n",
    "    response = requests.get(url, verify=False, headers=headers, proxies=proxy_generator())\n",
    "    \n",
    "    # checking if an error has occurred \n",
    "    if (response.status_code != 200):\n",
    "        raise Exception(response.raise_for_status())    \n",
    "\n",
    "    # parsing content\n",
    "    soup = BeautifulSoup(response.text, 'html.parser')\n",
    "    ## reviews section\n",
    "    reviews = soup.findAll(\"div\", {\"class\":\"a-section review aok-relative\"})\n",
    "    ## parsing reviews section\n",
    "    reviews = BeautifulSoup('<br/>'.join([str(tag) for tag in reviews]), 'html.parser')\n",
    "    \n",
    "    ## 1. title\n",
    "    titles = reviews.find_all(\"a\", class_=\"review-title\")\n",
    "    title_lst = []\n",
    "    for title in titles:\n",
    "        title_lst.append(title.find_all(\"span\")[0].contents[0])\n",
    "        \n",
    "    ## 2. name\n",
    "    name_lst = helper(reviews, \"span\", \"class\", \"a-profile-name\")\n",
    "    \n",
    "    ## 3. rating\n",
    "    rating_lst = helper(reviews, \"span\", \"class\", \"a-icon-alt\")\n",
    "    \n",
    "    ## 4. date\n",
    "    date_lst = helper(reviews, \"span\", \"data-hook\", \"review-date\")   \n",
    "    \n",
    "    ## 5. content\n",
    "    contents = reviews.find_all(\"span\", {\"data-hook\":\"review-body\"})\n",
    "    content_lst = []\n",
    "    for content in contents:\n",
    "        text_ = content.find_all(\"span\")[0].get_text(\"\\n\").strip()\n",
    "        text_ = \". \".join(text_.splitlines())\n",
    "        text_ = re.sub(' +', ' ', text_)\n",
    "        content_lst.append(text_)\n",
    "    \n",
    "    # adding to the main list\n",
    "    reviews_dict['date_info'].extend(date_lst)\n",
    "    reviews_dict['name'].extend(name_lst)\n",
    "    reviews_dict['title'].extend(title_lst)\n",
    "    reviews_dict['content'].extend(content_lst)\n",
    "    reviews_dict['rating'].extend(rating_lst)\n",
    "    \n",
    "    # checking whether scrapping is completed\n",
    "    if (len(title_lst) == 0):\n",
    "        \n",
    "        # validating whether capcha is bypassed or not (status code is 200 in case it displays the capcha image)\n",
    "        \n",
    "        \n",
    "        \n",
    "        return \"completed\"\n",
    "    return \"running\"\n",
    "\n",
    "def amazon_review_scraper(amazon_site, product_id, sleep_time=1):\n",
    "    \n",
    "    # url\n",
    "    url = \"https://www.\" + amazon_site + \"/dp/product-reviews/\" + product_id + \"?pageNumber={}\"\n",
    "        \n",
    "    #\n",
    "    global reviews_dict\n",
    "    reviews_dict = {\"date_info\":[], \"name\":[], \"title\":[], \"content\":[], \"rating\":[]}\n",
    "    \n",
    "    print (\"Started!\")\n",
    "    \n",
    "    page = 1\n",
    "    while(True):\n",
    "        print (\"Scrapping page: {}\".format(page), end=\"\\r\")\n",
    "        status = scraper(url.format(page))\n",
    "\n",
    "        if (status == \"completed\"):\n",
    "            break\n",
    "        page += 1\n",
    "        \n",
    "        time.sleep(sleep_time)\n",
    "        \n",
    "    print ()\n",
    "    print (\"Completed!\")\n",
    "        \n",
    "    # creating df\n",
    "    reviews_df = pd.DataFrame(reviews_dict)\n",
    "    return reviews_df"
   ]
  },
  {
   "cell_type": "code",
   "execution_count": 101,
   "metadata": {},
   "outputs": [
    {
     "name": "stdout",
     "output_type": "stream",
     "text": [
      "Started!\n",
      "https://www.amazon.in/dp/product-reviews/B071KFNTYF?pageNumber=1\n",
      "\n",
      "Completed!\n"
     ]
    },
    {
     "data": {
      "text/html": [
       "<div>\n",
       "<style scoped>\n",
       "    .dataframe tbody tr th:only-of-type {\n",
       "        vertical-align: middle;\n",
       "    }\n",
       "\n",
       "    .dataframe tbody tr th {\n",
       "        vertical-align: top;\n",
       "    }\n",
       "\n",
       "    .dataframe thead th {\n",
       "        text-align: right;\n",
       "    }\n",
       "</style>\n",
       "<table border=\"1\" class=\"dataframe\">\n",
       "  <thead>\n",
       "    <tr style=\"text-align: right;\">\n",
       "      <th></th>\n",
       "      <th>date_info</th>\n",
       "      <th>name</th>\n",
       "      <th>title</th>\n",
       "      <th>content</th>\n",
       "      <th>rating</th>\n",
       "    </tr>\n",
       "  </thead>\n",
       "  <tbody>\n",
       "  </tbody>\n",
       "</table>\n",
       "</div>"
      ],
      "text/plain": [
       "Empty DataFrame\n",
       "Columns: [date_info, name, title, content, rating]\n",
       "Index: []"
      ]
     },
     "execution_count": 101,
     "metadata": {},
     "output_type": "execute_result"
    }
   ],
   "source": [
    "amazon_review_scraper(amazon_site=\"amazon.in\", product_id=\"B071KFNTYF\")"
   ]
  },
  {
   "cell_type": "code",
   "execution_count": 99,
   "metadata": {},
   "outputs": [
    {
     "data": {
      "text/plain": [
       "{'https': '144.76.214.158:1080'}"
      ]
     },
     "execution_count": 99,
     "metadata": {},
     "output_type": "execute_result"
    }
   ],
   "source": [
    "proxy_generator()"
   ]
  },
  {
   "cell_type": "code",
   "execution_count": 105,
   "metadata": {},
   "outputs": [
    {
     "data": {
      "text/html": [
       "<!DOCTYPE html>\n",
       "<!--[if lt IE 7]> <html lang=\"en-us\" class=\"a-no-js a-lt-ie9 a-lt-ie8 a-lt-ie7\"> <![endif]-->\n",
       "<!--[if IE 7]>    <html lang=\"en-us\" class=\"a-no-js a-lt-ie9 a-lt-ie8\"> <![endif]-->\n",
       "<!--[if IE 8]>    <html lang=\"en-us\" class=\"a-no-js a-lt-ie9\"> <![endif]-->\n",
       "<!--[if gt IE 8]><!-->\n",
       "<html class=\"a-no-js\" lang=\"en-us\"><!--<![endif]--><head>\n",
       "<meta http-equiv=\"content-type\" content=\"text/html; charset=UTF-8\">\n",
       "<meta charset=\"utf-8\">\n",
       "<meta http-equiv=\"X-UA-Compatible\" content=\"IE=edge,chrome=1\">\n",
       "<title dir=\"ltr\">Robot Check</title>\n",
       "<meta name=\"viewport\" content=\"width=device-width\">\n",
       "<link rel=\"stylesheet\" href=\"https://images-na.ssl-images-amazon.com/images/G/01/AUIClients/AmazonUI-3c913031596ca78a3768f4e934b1cc02ce238101.secure.min._V1_.css\">\n",
       "<script>\n",
       "\n",
       "if (true === true) {\n",
       "    var ue_t0 = (+ new Date()),\n",
       "        ue_csm = window,\n",
       "        ue = { t0: ue_t0, d: function() { return (+new Date() - ue_t0); } },\n",
       "        ue_furl = \"fls-eu.amazon.in\",\n",
       "        ue_mid = \"A21TJRUUN4KGV\",\n",
       "        ue_sid = (document.cookie.match(/session-id=([0-9-]+)/) || [])[1],\n",
       "        ue_sn = \"opfcaptcha.amazon.in\",\n",
       "        ue_id = '0NDHB9PVZR0XQCE2V6VK';\n",
       "}\n",
       "</script>\n",
       "</head>\n",
       "<body>\n",
       "\n",
       "<!--\n",
       "        To discuss automated access to Amazon data please contact api-services-support@amazon.com.\n",
       "        For information about migrating to our APIs refer to our Marketplace APIs at https://developer.amazonservices.in/ref=rm_c_sv, or our Product Advertising API at https://affiliate-program.amazon.in/gp/advertising/api/detail/main.html/ref=rm_c_ac for advertising use cases.\n",
       "-->\n",
       "\n",
       "<!--\n",
       "Correios.DoNotSend\n",
       "-->\n",
       "\n",
       "<div class=\"a-container a-padding-double-large\" style=\"min-width:350px;padding:44px 0 !important\">\n",
       "\n",
       "    <div class=\"a-row a-spacing-double-large\" style=\"width: 350px; margin: 0 auto\">\n",
       "\n",
       "        <div class=\"a-row a-spacing-medium a-text-center\"><i class=\"a-icon a-logo\"></i></div>\n",
       "\n",
       "        <div class=\"a-box a-alert a-alert-info a-spacing-base\">\n",
       "            <div class=\"a-box-inner\">\n",
       "                <i class=\"a-icon a-icon-alert\"></i>\n",
       "                <h4>Enter the characters you see below</h4>\n",
       "                <p class=\"a-last\">Sorry, we just need to make sure you're not a robot. For best results, please make sure your browser is accepting cookies.</p>\n",
       "                </div>\n",
       "            </div>\n",
       "\n",
       "            <div class=\"a-section\">\n",
       "\n",
       "                <div class=\"a-box a-color-offset-background\">\n",
       "                    <div class=\"a-box-inner a-padding-extra-large\">\n",
       "\n",
       "                        <form method=\"get\" action=\"/errors/validateCaptcha\" name=\"\">\n",
       "                            <input type=hidden name=\"amzn\" value=\"bnmKu2sC0ABm+E1Owp9H0w==\" /><input type=hidden name=\"amzn-r\" value=\"&#047;dp&#047;product&#045;reviews&#047;B071KFNTYF?pageNumber&#061;1\" />\n",
       "                            <div class=\"a-row a-spacing-large\">\n",
       "                                <div class=\"a-box\">\n",
       "                                    <div class=\"a-box-inner\">\n",
       "                                        <h4>Type the characters you see in this image:</h4>\n",
       "                                        <!-- For automated access to price change or offer listing change events,\n",
       "                                             please refer to the MWS Subscription API:\n",
       "                                             https://developer.amazonservices.in/gp/mws/api.html/276-5247872-0590350?ie=UTF8&section=subscriptions&group=subscriptions&version=latest\n",
       "                                        -->\n",
       "                                        <div class=\"a-row a-text-center\">\n",
       "                                            <img src=\"https://images-na.ssl-images-amazon.com/captcha/dddfleoy/Captcha_gjoqsvuvce.jpg\">\n",
       "                                        </div>\n",
       "                                        <div class=\"a-row a-spacing-base\">\n",
       "                                            <div class=\"a-row\">\n",
       "                                                <div class=\"a-column a-span6\">\n",
       "                                                </div>\n",
       "                                                <div class=\"a-column a-span6 a-span-last a-text-right\">\n",
       "                                                    <a onclick=\"window.location.reload()\">Try different image</a>\n",
       "                                                </div>\n",
       "                                            </div>\n",
       "                                            <input autocomplete=\"off\" spellcheck=\"false\" placeholder=\"Type characters\" id=\"captchacharacters\" name=\"field-keywords\" class=\"a-span12\" autocapitalize=\"off\" autocorrect=\"off\" type=\"text\">\n",
       "                                        </div>\n",
       "                                    </div>\n",
       "                                </div>\n",
       "                            </div>\n",
       "\n",
       "                            <div class=\"a-section a-spacing-extra-large\">\n",
       "\n",
       "                                <div class=\"a-row\">\n",
       "                                    <span class=\"a-button a-button-primary a-span12\">\n",
       "                                        <span class=\"a-button-inner\">\n",
       "                                            <button type=\"submit\" class=\"a-button-text\">Continue shopping</button>\n",
       "                                        </span>\n",
       "                                    </span>\n",
       "                                </div>\n",
       "\n",
       "                            </div>\n",
       "                        </form>\n",
       "\n",
       "                    </div>\n",
       "                </div>\n",
       "\n",
       "            </div>\n",
       "\n",
       "        </div>\n",
       "\n",
       "        <div class=\"a-divider a-divider-section\"><div class=\"a-divider-inner\"></div></div>\n",
       "\n",
       "        <div class=\"a-text-center a-spacing-small a-size-mini\">\n",
       "            <a href=\"https://www.amazon.in/gp/help/customer/display.html/ref=footer_cou?ie=UTF8&nodeId=200545940\">Conditions of Use &amp; Sale</a>\n",
       "            <span class=\"a-letter-space\"></span>\n",
       "            <span class=\"a-letter-space\"></span>\n",
       "            <span class=\"a-letter-space\"></span>\n",
       "            <span class=\"a-letter-space\"></span>\n",
       "            <a href=\"https://www.amazon.in/gp/help/customer/display.html/ref=footer_privacy?ie=UTF8&nodeId=200534380\">Privacy Notice</a>\n",
       "        </div>\n",
       "\n",
       "        <div class=\"a-text-center a-size-mini a-color-secondary\">\n",
       "          &copy; 1996-2015, Amazon.com, Inc. or its affiliates\n",
       "          <script>\n",
       "           if (true === true) {\n",
       "             document.write('<img src=\"https://fls-eu.amaz'+'on.in/'+'1/oc-csi/1/OP/requestId=0NDHB9PVZR0XQCE2V6VK&js=1\" />');\n",
       "           };\n",
       "          </script>\n",
       "          <noscript>\n",
       "            <img src=\"https://fls-eu.amazon.in/1/oc-csi/1/OP/requestId=0NDHB9PVZR0XQCE2V6VK&js=0\" />\n",
       "          </noscript>\n",
       "        </div>\n",
       "    </div>\n",
       "    <script>\n",
       "    if (true === true) {\n",
       "        var head = document.getElementsByTagName('head')[0],\n",
       "            prefix = \"https://images-eu.ssl-images-amazon.com/images/G/01/csminstrumentation/\",\n",
       "            elem = document.createElement(\"script\");\n",
       "        elem.src = prefix + \"csm-captcha-instrumentation.min.js\";\n",
       "        head.appendChild(elem);\n",
       "\n",
       "        elem = document.createElement(\"script\");\n",
       "        elem.src = prefix + \"rd-script-6d68177fa6061598e9509dc4b5bdd08d.js\";\n",
       "        head.appendChild(elem);\n",
       "    }\n",
       "    </script>\n",
       "</body></html>\n"
      ],
      "text/plain": [
       "<IPython.core.display.HTML object>"
      ]
     },
     "metadata": {},
     "output_type": "display_data"
    }
   ],
   "source": [
    "url = \"https://www.amazon.in/dp/product-reviews/B071KFNTYF?pageNumber=1\"\n",
    "\n",
    "response = requests.get(url, verify=False)\n",
    "\n",
    "soup = BeautifulSoup(response.text, 'html.parser')\n",
    "# soup\n",
    "display(HTML(response.text))"
   ]
  },
  {
   "cell_type": "code",
   "execution_count": null,
   "metadata": {},
   "outputs": [],
   "source": []
  },
  {
   "cell_type": "code",
   "execution_count": null,
   "metadata": {},
   "outputs": [],
   "source": []
  },
  {
   "cell_type": "code",
   "execution_count": null,
   "metadata": {},
   "outputs": [],
   "source": [
    "# important commands\n",
    "\n",
    "## 1. display html\n",
    "# from IPython.core.display import display, HTML\n",
    "# display(HTML('<h1>Hello, world!</h1>'))\n",
    "\n",
    "## 2. check request header\n",
    "# url = 'http://whatismyheader.com/'"
   ]
  },
  {
   "cell_type": "code",
   "execution_count": null,
   "metadata": {},
   "outputs": [],
   "source": [
    "#no"
   ]
  }
 ],
 "metadata": {
  "kernelspec": {
   "display_name": "Python 3",
   "language": "python",
   "name": "python3"
  },
  "language_info": {
   "codemirror_mode": {
    "name": "ipython",
    "version": 3
   },
   "file_extension": ".py",
   "mimetype": "text/x-python",
   "name": "python",
   "nbconvert_exporter": "python",
   "pygments_lexer": "ipython3",
   "version": "3.6.9"
  },
  "toc": {
   "base_numbering": 1,
   "nav_menu": {},
   "number_sections": true,
   "sideBar": true,
   "skip_h1_title": true,
   "title_cell": "Table of Contents",
   "title_sidebar": "Contents",
   "toc_cell": true,
   "toc_position": {
    "height": "calc(100% - 180px)",
    "left": "10px",
    "top": "150px",
    "width": "165px"
   },
   "toc_section_display": true,
   "toc_window_display": false
  },
  "varInspector": {
   "cols": {
    "lenName": 16,
    "lenType": 16,
    "lenVar": 40
   },
   "kernels_config": {
    "python": {
     "delete_cmd_postfix": "",
     "delete_cmd_prefix": "del ",
     "library": "var_list.py",
     "varRefreshCmd": "print(var_dic_list())"
    },
    "r": {
     "delete_cmd_postfix": ") ",
     "delete_cmd_prefix": "rm(",
     "library": "var_list.r",
     "varRefreshCmd": "cat(var_dic_list()) "
    }
   },
   "types_to_exclude": [
    "module",
    "function",
    "builtin_function_or_method",
    "instance",
    "_Feature"
   ],
   "window_display": false
  }
 },
 "nbformat": 4,
 "nbformat_minor": 4
}
